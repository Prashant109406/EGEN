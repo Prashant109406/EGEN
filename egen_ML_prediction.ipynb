{
 "cells": [
  {
   "cell_type": "code",
   "execution_count": 163,
   "metadata": {},
   "outputs": [],
   "source": [
    "#!pip instal pandas-gbq\n",
    "from pandas.io import gbq\n",
    "import pandas as pd"
   ]
  },
  {
   "cell_type": "code",
   "execution_count": 164,
   "metadata": {},
   "outputs": [],
   "source": [
    "query=\"\"\" SELECT * FROM `my-project-egen.egen_bigquery.flight` \"\"\""
   ]
  },
  {
   "cell_type": "code",
   "execution_count": 167,
   "metadata": {},
   "outputs": [
    {
     "name": "stderr",
     "output_type": "stream",
     "text": [
      "Downloading: 100%|████████████████████████████████████████████████████████████████| 398/398 [00:00<00:00, 984.94rows/s]\n"
     ]
    }
   ],
   "source": [
    "df= gbq.read_gbq(query,project_id='my-project-egen')"
   ]
  },
  {
   "cell_type": "code",
   "execution_count": 168,
   "metadata": {},
   "outputs": [
    {
     "data": {
      "text/html": [
       "<div>\n",
       "<style scoped>\n",
       "    .dataframe tbody tr th:only-of-type {\n",
       "        vertical-align: middle;\n",
       "    }\n",
       "\n",
       "    .dataframe tbody tr th {\n",
       "        vertical-align: top;\n",
       "    }\n",
       "\n",
       "    .dataframe thead th {\n",
       "        text-align: right;\n",
       "    }\n",
       "</style>\n",
       "<table border=\"1\" class=\"dataframe\">\n",
       "  <thead>\n",
       "    <tr style=\"text-align: right;\">\n",
       "      <th></th>\n",
       "      <th>YEAR</th>\n",
       "      <th>MONTH</th>\n",
       "      <th>DAY</th>\n",
       "      <th>DAY_OF_WEEK</th>\n",
       "      <th>AIRLINE</th>\n",
       "      <th>FLIGHT_NUMBER</th>\n",
       "      <th>TAIL_NUMBER</th>\n",
       "      <th>ORIGIN_AIRPORT</th>\n",
       "      <th>DESTINATION_AIRPORT</th>\n",
       "      <th>SCHEDULED_DEPARTURE</th>\n",
       "      <th>...</th>\n",
       "      <th>ELAPSED_TIME</th>\n",
       "      <th>AIR_TIME</th>\n",
       "      <th>DISTANCE</th>\n",
       "      <th>WHEELS_ON</th>\n",
       "      <th>TAXI_IN</th>\n",
       "      <th>SCHEDULED_ARRIVAL</th>\n",
       "      <th>ARRIVAL_TIME</th>\n",
       "      <th>ARRIVAL_DELAY</th>\n",
       "      <th>DIVERTED</th>\n",
       "      <th>CANCELLED</th>\n",
       "    </tr>\n",
       "  </thead>\n",
       "  <tbody>\n",
       "    <tr>\n",
       "      <td>0</td>\n",
       "      <td>2015</td>\n",
       "      <td>1</td>\n",
       "      <td>1</td>\n",
       "      <td>4</td>\n",
       "      <td>AA</td>\n",
       "      <td>2336</td>\n",
       "      <td>N3KUAA</td>\n",
       "      <td>LAX</td>\n",
       "      <td>PBI</td>\n",
       "      <td>10</td>\n",
       "      <td>...</td>\n",
       "      <td>279.0</td>\n",
       "      <td>263.0</td>\n",
       "      <td>2330</td>\n",
       "      <td>737.0</td>\n",
       "      <td>4.0</td>\n",
       "      <td>750</td>\n",
       "      <td>741.0</td>\n",
       "      <td>-9.0</td>\n",
       "      <td>0</td>\n",
       "      <td>0</td>\n",
       "    </tr>\n",
       "    <tr>\n",
       "      <td>1</td>\n",
       "      <td>2015</td>\n",
       "      <td>1</td>\n",
       "      <td>1</td>\n",
       "      <td>4</td>\n",
       "      <td>AA</td>\n",
       "      <td>258</td>\n",
       "      <td>N3HYAA</td>\n",
       "      <td>LAX</td>\n",
       "      <td>MIA</td>\n",
       "      <td>20</td>\n",
       "      <td>...</td>\n",
       "      <td>281.0</td>\n",
       "      <td>258.0</td>\n",
       "      <td>2342</td>\n",
       "      <td>748.0</td>\n",
       "      <td>8.0</td>\n",
       "      <td>805</td>\n",
       "      <td>756.0</td>\n",
       "      <td>-9.0</td>\n",
       "      <td>0</td>\n",
       "      <td>0</td>\n",
       "    </tr>\n",
       "    <tr>\n",
       "      <td>2</td>\n",
       "      <td>2015</td>\n",
       "      <td>1</td>\n",
       "      <td>1</td>\n",
       "      <td>4</td>\n",
       "      <td>AA</td>\n",
       "      <td>1112</td>\n",
       "      <td>N3LAAA</td>\n",
       "      <td>SFO</td>\n",
       "      <td>DFW</td>\n",
       "      <td>30</td>\n",
       "      <td>...</td>\n",
       "      <td>193.0</td>\n",
       "      <td>173.0</td>\n",
       "      <td>1464</td>\n",
       "      <td>529.0</td>\n",
       "      <td>3.0</td>\n",
       "      <td>545</td>\n",
       "      <td>532.0</td>\n",
       "      <td>-13.0</td>\n",
       "      <td>0</td>\n",
       "      <td>0</td>\n",
       "    </tr>\n",
       "    <tr>\n",
       "      <td>3</td>\n",
       "      <td>2015</td>\n",
       "      <td>1</td>\n",
       "      <td>1</td>\n",
       "      <td>4</td>\n",
       "      <td>AA</td>\n",
       "      <td>1674</td>\n",
       "      <td>N853AA</td>\n",
       "      <td>LAS</td>\n",
       "      <td>MIA</td>\n",
       "      <td>35</td>\n",
       "      <td>...</td>\n",
       "      <td>266.0</td>\n",
       "      <td>238.0</td>\n",
       "      <td>2174</td>\n",
       "      <td>746.0</td>\n",
       "      <td>7.0</td>\n",
       "      <td>803</td>\n",
       "      <td>753.0</td>\n",
       "      <td>-10.0</td>\n",
       "      <td>0</td>\n",
       "      <td>0</td>\n",
       "    </tr>\n",
       "    <tr>\n",
       "      <td>4</td>\n",
       "      <td>2015</td>\n",
       "      <td>1</td>\n",
       "      <td>1</td>\n",
       "      <td>4</td>\n",
       "      <td>AA</td>\n",
       "      <td>371</td>\n",
       "      <td>N3GXAA</td>\n",
       "      <td>SEA</td>\n",
       "      <td>MIA</td>\n",
       "      <td>100</td>\n",
       "      <td>...</td>\n",
       "      <td>347.0</td>\n",
       "      <td>311.0</td>\n",
       "      <td>2724</td>\n",
       "      <td>933.0</td>\n",
       "      <td>6.0</td>\n",
       "      <td>938</td>\n",
       "      <td>939.0</td>\n",
       "      <td>1.0</td>\n",
       "      <td>0</td>\n",
       "      <td>0</td>\n",
       "    </tr>\n",
       "    <tr>\n",
       "      <td>...</td>\n",
       "      <td>...</td>\n",
       "      <td>...</td>\n",
       "      <td>...</td>\n",
       "      <td>...</td>\n",
       "      <td>...</td>\n",
       "      <td>...</td>\n",
       "      <td>...</td>\n",
       "      <td>...</td>\n",
       "      <td>...</td>\n",
       "      <td>...</td>\n",
       "      <td>...</td>\n",
       "      <td>...</td>\n",
       "      <td>...</td>\n",
       "      <td>...</td>\n",
       "      <td>...</td>\n",
       "      <td>...</td>\n",
       "      <td>...</td>\n",
       "      <td>...</td>\n",
       "      <td>...</td>\n",
       "      <td>...</td>\n",
       "      <td>...</td>\n",
       "    </tr>\n",
       "    <tr>\n",
       "      <td>393</td>\n",
       "      <td>2015</td>\n",
       "      <td>1</td>\n",
       "      <td>1</td>\n",
       "      <td>4</td>\n",
       "      <td>OO</td>\n",
       "      <td>5254</td>\n",
       "      <td>N746SK</td>\n",
       "      <td>MAF</td>\n",
       "      <td>IAH</td>\n",
       "      <td>510</td>\n",
       "      <td>...</td>\n",
       "      <td>NaN</td>\n",
       "      <td>NaN</td>\n",
       "      <td>429</td>\n",
       "      <td>NaN</td>\n",
       "      <td>NaN</td>\n",
       "      <td>637</td>\n",
       "      <td>NaN</td>\n",
       "      <td>NaN</td>\n",
       "      <td>0</td>\n",
       "      <td>1</td>\n",
       "    </tr>\n",
       "    <tr>\n",
       "      <td>394</td>\n",
       "      <td>2015</td>\n",
       "      <td>1</td>\n",
       "      <td>1</td>\n",
       "      <td>4</td>\n",
       "      <td>OO</td>\n",
       "      <td>5318</td>\n",
       "      <td>N946SW</td>\n",
       "      <td>CMX</td>\n",
       "      <td>ORD</td>\n",
       "      <td>600</td>\n",
       "      <td>...</td>\n",
       "      <td>NaN</td>\n",
       "      <td>NaN</td>\n",
       "      <td>359</td>\n",
       "      <td>NaN</td>\n",
       "      <td>NaN</td>\n",
       "      <td>627</td>\n",
       "      <td>NaN</td>\n",
       "      <td>NaN</td>\n",
       "      <td>0</td>\n",
       "      <td>1</td>\n",
       "    </tr>\n",
       "    <tr>\n",
       "      <td>395</td>\n",
       "      <td>2015</td>\n",
       "      <td>1</td>\n",
       "      <td>1</td>\n",
       "      <td>4</td>\n",
       "      <td>OO</td>\n",
       "      <td>5445</td>\n",
       "      <td>N579SW</td>\n",
       "      <td>SMF</td>\n",
       "      <td>SFO</td>\n",
       "      <td>600</td>\n",
       "      <td>...</td>\n",
       "      <td>NaN</td>\n",
       "      <td>NaN</td>\n",
       "      <td>86</td>\n",
       "      <td>NaN</td>\n",
       "      <td>NaN</td>\n",
       "      <td>652</td>\n",
       "      <td>NaN</td>\n",
       "      <td>NaN</td>\n",
       "      <td>0</td>\n",
       "      <td>1</td>\n",
       "    </tr>\n",
       "    <tr>\n",
       "      <td>396</td>\n",
       "      <td>2015</td>\n",
       "      <td>1</td>\n",
       "      <td>1</td>\n",
       "      <td>4</td>\n",
       "      <td>OO</td>\n",
       "      <td>6457</td>\n",
       "      <td>N560SW</td>\n",
       "      <td>SMX</td>\n",
       "      <td>LAX</td>\n",
       "      <td>545</td>\n",
       "      <td>...</td>\n",
       "      <td>NaN</td>\n",
       "      <td>NaN</td>\n",
       "      <td>134</td>\n",
       "      <td>NaN</td>\n",
       "      <td>NaN</td>\n",
       "      <td>651</td>\n",
       "      <td>NaN</td>\n",
       "      <td>NaN</td>\n",
       "      <td>0</td>\n",
       "      <td>1</td>\n",
       "    </tr>\n",
       "    <tr>\n",
       "      <td>397</td>\n",
       "      <td>2015</td>\n",
       "      <td>1</td>\n",
       "      <td>1</td>\n",
       "      <td>4</td>\n",
       "      <td>OO</td>\n",
       "      <td>5460</td>\n",
       "      <td>N583SW</td>\n",
       "      <td>RDD</td>\n",
       "      <td>SFO</td>\n",
       "      <td>530</td>\n",
       "      <td>...</td>\n",
       "      <td>NaN</td>\n",
       "      <td>NaN</td>\n",
       "      <td>199</td>\n",
       "      <td>NaN</td>\n",
       "      <td>NaN</td>\n",
       "      <td>700</td>\n",
       "      <td>NaN</td>\n",
       "      <td>NaN</td>\n",
       "      <td>0</td>\n",
       "      <td>1</td>\n",
       "    </tr>\n",
       "  </tbody>\n",
       "</table>\n",
       "<p>398 rows × 25 columns</p>\n",
       "</div>"
      ],
      "text/plain": [
       "     YEAR  MONTH  DAY  DAY_OF_WEEK AIRLINE  FLIGHT_NUMBER TAIL_NUMBER  \\\n",
       "0    2015      1    1            4      AA           2336      N3KUAA   \n",
       "1    2015      1    1            4      AA            258      N3HYAA   \n",
       "2    2015      1    1            4      AA           1112      N3LAAA   \n",
       "3    2015      1    1            4      AA           1674      N853AA   \n",
       "4    2015      1    1            4      AA            371      N3GXAA   \n",
       "..    ...    ...  ...          ...     ...            ...         ...   \n",
       "393  2015      1    1            4      OO           5254      N746SK   \n",
       "394  2015      1    1            4      OO           5318      N946SW   \n",
       "395  2015      1    1            4      OO           5445      N579SW   \n",
       "396  2015      1    1            4      OO           6457      N560SW   \n",
       "397  2015      1    1            4      OO           5460      N583SW   \n",
       "\n",
       "    ORIGIN_AIRPORT DESTINATION_AIRPORT  SCHEDULED_DEPARTURE  ...  \\\n",
       "0              LAX                 PBI                   10  ...   \n",
       "1              LAX                 MIA                   20  ...   \n",
       "2              SFO                 DFW                   30  ...   \n",
       "3              LAS                 MIA                   35  ...   \n",
       "4              SEA                 MIA                  100  ...   \n",
       "..             ...                 ...                  ...  ...   \n",
       "393            MAF                 IAH                  510  ...   \n",
       "394            CMX                 ORD                  600  ...   \n",
       "395            SMF                 SFO                  600  ...   \n",
       "396            SMX                 LAX                  545  ...   \n",
       "397            RDD                 SFO                  530  ...   \n",
       "\n",
       "     ELAPSED_TIME  AIR_TIME  DISTANCE  WHEELS_ON  TAXI_IN  SCHEDULED_ARRIVAL  \\\n",
       "0           279.0     263.0      2330      737.0      4.0                750   \n",
       "1           281.0     258.0      2342      748.0      8.0                805   \n",
       "2           193.0     173.0      1464      529.0      3.0                545   \n",
       "3           266.0     238.0      2174      746.0      7.0                803   \n",
       "4           347.0     311.0      2724      933.0      6.0                938   \n",
       "..            ...       ...       ...        ...      ...                ...   \n",
       "393           NaN       NaN       429        NaN      NaN                637   \n",
       "394           NaN       NaN       359        NaN      NaN                627   \n",
       "395           NaN       NaN        86        NaN      NaN                652   \n",
       "396           NaN       NaN       134        NaN      NaN                651   \n",
       "397           NaN       NaN       199        NaN      NaN                700   \n",
       "\n",
       "     ARRIVAL_TIME  ARRIVAL_DELAY  DIVERTED  CANCELLED  \n",
       "0           741.0           -9.0         0          0  \n",
       "1           756.0           -9.0         0          0  \n",
       "2           532.0          -13.0         0          0  \n",
       "3           753.0          -10.0         0          0  \n",
       "4           939.0            1.0         0          0  \n",
       "..            ...            ...       ...        ...  \n",
       "393           NaN            NaN         0          1  \n",
       "394           NaN            NaN         0          1  \n",
       "395           NaN            NaN         0          1  \n",
       "396           NaN            NaN         0          1  \n",
       "397           NaN            NaN         0          1  \n",
       "\n",
       "[398 rows x 25 columns]"
      ]
     },
     "execution_count": 168,
     "metadata": {},
     "output_type": "execute_result"
    }
   ],
   "source": [
    "df"
   ]
  },
  {
   "cell_type": "code",
   "execution_count": 173,
   "metadata": {},
   "outputs": [
    {
     "data": {
      "image/png": "[encoded data removed]",
      "text/plain": [
       "<Figure size 720x504 with 1 Axes>"
      ]
     },
     "metadata": {
      "needs_background": "light"
     },
     "output_type": "display_data"
    }
   ],
   "source": [
    "import matplotlib.pyplot as plt\n",
    "import seaborn as sns\n",
    "delay_type = lambda x:((0,1)[x > 5],2)[x > 45]\n",
    "df['DELAY_LEVEL'] = df['DEPARTURE_DELAY'].apply(delay_type)\n",
    "#____________________________________________________\n",
    "fig = plt.figure(1, figsize=(10,7))\n",
    "ax = sns.countplot(y=\"AIRLINE\", hue='DELAY_LEVEL', data=df)\n",
    "\n",
    "# Set the legend\n",
    "L = plt.legend()\n",
    "L.get_texts()[0].set_text('on time (t < 5 min)')\n",
    "L.get_texts()[1].set_text('small delay (5 < t < 45 min)')\n",
    "L.get_texts()[2].set_text('large delay (t > 45 min)')\n",
    "plt.show()"
   ]
  },
  {
   "cell_type": "code",
   "execution_count": 116,
   "metadata": {},
   "outputs": [],
   "source": [
    "df = df.drop('AIRLINE', axis=1)\n",
    "df = df.drop('ORIGIN_AIRPORT',axis=1)\n",
    "df = df.drop('DESTINATION_AIRPORT',axis=1)\n",
    "df = df.drop('TAIL_NUMBER',axis=1)\n",
    "# df = df.drop('YEAR',axis=1)\n",
    "# df = df.drop('MONTH',axis=1)\n",
    "# df = df.drop('DAY',axis=1)"
   ]
  },
  {
   "cell_type": "code",
   "execution_count": 117,
   "metadata": {},
   "outputs": [
    {
     "data": {
      "text/plain": [
       "YEAR                    0\n",
       "MONTH                   0\n",
       "DAY                     0\n",
       "DAY_OF_WEEK             0\n",
       "FLIGHT_NUMBER           0\n",
       "SCHEDULED_DEPARTURE     0\n",
       "DEPARTURE_TIME         35\n",
       "DEPARTURE_DELAY        35\n",
       "TAXI_OUT               35\n",
       "WHEELS_OFF             35\n",
       "SCHEDULED_TIME          0\n",
       "ELAPSED_TIME           35\n",
       "AIR_TIME               35\n",
       "DISTANCE                0\n",
       "WHEELS_ON              35\n",
       "TAXI_IN                35\n",
       "SCHEDULED_ARRIVAL       0\n",
       "ARRIVAL_TIME           35\n",
       "ARRIVAL_DELAY          35\n",
       "DIVERTED                0\n",
       "CANCELLED               0\n",
       "dtype: int64"
      ]
     },
     "execution_count": 117,
     "metadata": {},
     "output_type": "execute_result"
    }
   ],
   "source": [
    "df.isnull().sum()"
   ]
  },
  {
   "cell_type": "code",
   "execution_count": 141,
   "metadata": {},
   "outputs": [],
   "source": [
    "flights=df.interpolate()\n",
    "\n",
    "# df = df.fillna({'ARRIVAL_DELAY': 1})\n",
    "# df = df.fillna({'ARRIVAL_DELAY': 1})\n",
    "# df = df.fillna({'ARRIVAL_DELAY': 1})\n",
    "# df = df.fillna({'ARRIVAL_DELAY': 1})\n",
    "# df = df.fillna({'ARRIVAL_DELAY': 1})\n",
    "# df = df.fillna({'ARRIVAL_DELAY': 1})\n",
    "# df = df.fillna({'ARRIVAL_DELAY': 1})\n",
    "# df = df.fillna({'ARRIVAL_DELAY': 1})\n",
    "# df = df.fillna({'ARRIVAL_DELAY': 1})"
   ]
  },
  {
   "cell_type": "code",
   "execution_count": 142,
   "metadata": {},
   "outputs": [
    {
     "data": {
      "text/plain": [
       "YEAR                   0\n",
       "MONTH                  0\n",
       "DAY                    0\n",
       "DAY_OF_WEEK            0\n",
       "FLIGHT_NUMBER          0\n",
       "SCHEDULED_DEPARTURE    0\n",
       "DEPARTURE_TIME         0\n",
       "DEPARTURE_DELAY        0\n",
       "TAXI_OUT               0\n",
       "WHEELS_OFF             0\n",
       "SCHEDULED_TIME         0\n",
       "ELAPSED_TIME           0\n",
       "AIR_TIME               0\n",
       "DISTANCE               0\n",
       "WHEELS_ON              0\n",
       "TAXI_IN                0\n",
       "SCHEDULED_ARRIVAL      0\n",
       "ARRIVAL_TIME           0\n",
       "ARRIVAL_DELAY          0\n",
       "DIVERTED               0\n",
       "CANCELLED              0\n",
       "dtype: int64"
      ]
     },
     "execution_count": 142,
     "metadata": {},
     "output_type": "execute_result"
    }
   ],
   "source": [
    "df.isnull().sum()"
   ]
  },
  {
   "cell_type": "code",
   "execution_count": 135,
   "metadata": {},
   "outputs": [],
   "source": [
    "import pandas as pd\n",
    "import seaborn as sb\n",
    "from sklearn.model_selection import train_test_split\n",
    "from sklearn.preprocessing import StandardScaler\n",
    "from sklearn.tree import DecisionTreeClassifier\n",
    "from sklearn.metrics import roc_auc_score"
   ]
  },
  {
   "cell_type": "code",
   "execution_count": 137,
   "metadata": {},
   "outputs": [],
   "source": [
    "data = df.values\n",
    "X, y = data[:,:-1], data[:,-1]\n",
    "X_train, X_test, y_train, y_test = train_test_split(X, y, test_size=0.30, random_state=42)  # splitting in the ratio 70:30"
   ]
  },
  {
   "cell_type": "code",
   "execution_count": 138,
   "metadata": {},
   "outputs": [],
   "source": [
    "scaled_features = StandardScaler().fit_transform(X_train, X_test)"
   ]
  },
  {
   "cell_type": "code",
   "execution_count": 139,
   "metadata": {},
   "outputs": [],
   "source": [
    "clf = DecisionTreeClassifier()\n",
    "clf = clf.fit(X_train,y_train)\n"
   ]
  },
  {
   "cell_type": "code",
   "execution_count": 140,
   "metadata": {},
   "outputs": [
    {
     "data": {
      "text/plain": [
       "1.0"
      ]
     },
     "execution_count": 140,
     "metadata": {},
     "output_type": "execute_result"
    }
   ],
   "source": [
    "pred_prob = clf.predict_proba(X_test)\n",
    "auc_score = roc_auc_score(y_test, pred_prob[:,1])\n",
    "auc_score"
   ]
  },
  {
   "cell_type": "code",
   "execution_count": 150,
   "metadata": {},
   "outputs": [
    {
     "data": {
      "text/plain": [
       "0.1625"
      ]
     },
     "execution_count": 150,
     "metadata": {},
     "output_type": "execute_result"
    }
   ],
   "source": [
    "predicted = model.predict(test_x)\n",
    "model.score(test_x, test_y)"
   ]
  },
  {
   "cell_type": "code",
   "execution_count": 151,
   "metadata": {},
   "outputs": [
    {
     "data": {
      "text/plain": [
       "array([ -1.,   0.,  -1., -12.,  -5.,  -5.,   0., -21., -11., -21.,  13.,\n",
       "         0., -14., -15., -10.,  86.,   0.,  -6.,  -5.,   0., -19.,  -3.,\n",
       "         0., -11., -10.,   0.,  -4.,   0., -19., -19.,   0.,   0., -40.,\n",
       "       -11.,   2.,  -3.,  19.,  -1.,   1.,   8.,   4., -19., -15.,  -4.,\n",
       "       -17.,   0.,  24.,   9., -22., -26., -13.,  -7., -10., -11.,   3.,\n",
       "        78.,  -9.,  -5.,  33., -11.,   1.,   8.,  -4., -19.,   9.,   2.,\n",
       "         3.,  54., -14., -18.,  19., -13., -10., -13.,   0., -10.,  -4.,\n",
       "         0., -19.,  13.])"
      ]
     },
     "execution_count": 151,
     "metadata": {},
     "output_type": "execute_result"
    }
   ],
   "source": [
    "predicted"
   ]
  },
  {
   "cell_type": "code",
   "execution_count": null,
   "metadata": {},
   "outputs": [],
   "source": []
  }
 ],
 "metadata": {
  "kernelspec": {
   "display_name": "Python 3",
   "language": "python",
   "name": "python3"
  },
  "language_info": {
   "codemirror_mode": {
    "name": "ipython",
    "version": 3
   },
   "file_extension": ".py",
   "mimetype": "text/x-python",
   "name": "python",
   "nbconvert_exporter": "python",
   "pygments_lexer": "ipython3",
   "version": "3.7.4"
  }
 },
 "nbformat": 4,
 "nbformat_minor": 2
}
